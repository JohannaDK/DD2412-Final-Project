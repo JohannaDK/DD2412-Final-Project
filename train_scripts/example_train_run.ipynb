{
 "cells": [
  {
   "cell_type": "markdown",
   "metadata": {},
   "source": [
    "# An example on how to run a WRN training\n",
    "\n",
    "The following set of commands gives an example of how to run a training of a network with the author codebase for a WRN for one epoch on CIFAR10. All the commands can also be directly executed in the command line.\n",
    "\n",
    "#### **Step 1:** \n",
    "Run the code block below if you have not ran it already in the console before starting this notebook. And make sure the runtime kernel of the notebook is the virtual environment you want to use for training."
   ]
  },
  {
   "cell_type": "code",
   "execution_count": null,
   "metadata": {},
   "outputs": [],
   "source": [
    "%pip install -r ../requirements.txt"
   ]
  },
  {
   "cell_type": "markdown",
   "metadata": {},
   "source": [
    "#### **Step 2:**\n",
    "\n",
    "Check run time machine availability."
   ]
  },
  {
   "cell_type": "code",
   "execution_count": 3,
   "metadata": {},
   "outputs": [
    {
     "data": {
      "text/plain": [
       "True"
      ]
     },
     "execution_count": 3,
     "metadata": {},
     "output_type": "execute_result"
    }
   ],
   "source": [
    "import torch\n",
    "torch.cuda.is_available()"
   ]
  },
  {
   "cell_type": "markdown",
   "metadata": {},
   "source": [
    "#### **Step 3:** \n",
    "Let's create a bash script for running a WRN training for one epoch. Copy the following block in to the `train_example.sh` but change the paths to work for your local instance. You can check the path for you by running the command below and excluding `example`.\n",
    "\n",
    "```bash\n",
    "cd /home/ericbanzuzi/DD2412-Final-Project/\n",
    "export PYTHONPATH=$PWD\n",
    "echo \"!!Training model!!\"\n",
    "python3 src/experiments/00_train_models.py \\\n",
    "    --model WRN \\\n",
    "    --epochs 1 \\\n",
    "    --accelerator gpu \\\n",
    "    --seed 1 \\\n",
    "    --dataset CIFAR10 \\\n",
    "    --model_name CIFAR10_WRN_28_10_Base \\\n",
    "    --batch_size 256\n",
    "echo \"!!Training done!!\"\n",
    "\n"
   ]
  },
  {
   "cell_type": "code",
   "execution_count": 2,
   "metadata": {},
   "outputs": [
    {
     "name": "stdout",
     "output_type": "stream",
     "text": [
      "/home/ericbanzuzi/DD2412-Final-Project/example\n"
     ]
    }
   ],
   "source": [
    "!pwd"
   ]
  },
  {
   "cell_type": "markdown",
   "metadata": {},
   "source": [
    "#### **Step 4:**\n",
    "\n",
    "Make sure you have acces to run `train_example.sh` and run it."
   ]
  },
  {
   "cell_type": "code",
   "execution_count": null,
   "metadata": {},
   "outputs": [],
   "source": [
    "!chmod +x ./train_example.sh"
   ]
  },
  {
   "cell_type": "markdown",
   "metadata": {},
   "source": [
    "Login to the wandb database using your account to store the expeiment results and track the training."
   ]
  },
  {
   "cell_type": "markdown",
   "metadata": {},
   "source": [
    "!wandb login <api_key>"
   ]
  },
  {
   "cell_type": "markdown",
   "metadata": {},
   "source": [
    "Run in the background:"
   ]
  },
  {
   "cell_type": "code",
   "execution_count": null,
   "metadata": {},
   "outputs": [],
   "source": [
    "!nohup bash ./train_WRN_CIFAR10.sh output.log 2>&1 &"
   ]
  },
  {
   "cell_type": "markdown",
   "metadata": {},
   "source": [
    "Run normally:"
   ]
  },
  {
   "cell_type": "code",
   "execution_count": null,
   "metadata": {},
   "outputs": [],
   "source": [
    "!./train_WRN_CIFAR10.sh"
   ]
  },
  {
   "cell_type": "markdown",
   "metadata": {},
   "source": [
    "#### **Step 5:**\n",
    "\n",
    "**Running without nohup:**\n",
    "Before the training starts, you will be asked by wandb whether you want your results of the training to be visualized or not. To have them visualized you first need to create and account and follow the steps from the interactive command line. An account can be created in [here](https://wandb.ai/site/).\n",
    "\n",
    "After the interactive questions the training starts and you can wait for the results.\n",
    "\n",
    "**Running with nohup:**\n",
    "Allows to run the bash script on background and keeping the connection even if ssh remote connection is lost. Use this for longer train runs."
   ]
  }
 ],
 "metadata": {
  "kernelspec": {
   "display_name": "base",
   "language": "python",
   "name": "python3"
  },
  "language_info": {
   "codemirror_mode": {
    "name": "ipython",
    "version": 3
   },
   "file_extension": ".py",
   "mimetype": "text/x-python",
   "name": "python",
   "nbconvert_exporter": "python",
   "pygments_lexer": "ipython3",
   "version": "3.10.14"
  }
 },
 "nbformat": 4,
 "nbformat_minor": 2
}
